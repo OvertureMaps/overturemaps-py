{
 "cells": [
  {
   "cell_type": "code",
   "execution_count": 1,
   "metadata": {
    "vscode": {
     "languageId": "plaintext"
    }
   },
   "outputs": [],
   "source": [
    "from overturemaps import core"
   ]
  },
  {
   "cell_type": "code",
   "execution_count": 2,
   "metadata": {
    "vscode": {
     "languageId": "plaintext"
    }
   },
   "outputs": [],
   "source": [
    "# Cambridge Kendall Square\n",
    "bbox = (-71.0886055604, 42.3606368124, -71.0766325984, 42.3606368124)"
   ]
  },
  {
   "cell_type": "code",
   "execution_count": 5,
   "metadata": {},
   "outputs": [
    {
     "ename": "ValueError",
     "evalue": "Specifying 'bbox' not supported for this Parquet file (it should either have a bbox covering column or use 'point' encoding).",
     "output_type": "error",
     "traceback": [
      "\u001b[0;31m---------------------------------------------------------------------------\u001b[0m",
      "\u001b[0;31mValueError\u001b[0m                                Traceback (most recent call last)",
      "Cell \u001b[0;32mIn[5], line 1\u001b[0m\n\u001b[0;32m----> 1\u001b[0m gdf \u001b[38;5;241m=\u001b[39m \u001b[43mcore\u001b[49m\u001b[38;5;241;43m.\u001b[39;49m\u001b[43mgeodataframe\u001b[49m\u001b[43m(\u001b[49m\u001b[38;5;124;43m\"\u001b[39;49m\u001b[38;5;124;43msegment\u001b[39;49m\u001b[38;5;124;43m\"\u001b[39;49m\u001b[43m,\u001b[49m\u001b[43m \u001b[49m\u001b[43mbbox\u001b[49m\u001b[38;5;241;43m=\u001b[39;49m\u001b[43mbbox\u001b[49m\u001b[43m)\u001b[49m\n",
      "File \u001b[0;32m~/dev/envs/transportation/lib/python3.12/site-packages/overturemaps/core.py:68\u001b[0m, in \u001b[0;36mgeodataframe\u001b[0;34m(overture_type, bbox)\u001b[0m\n\u001b[1;32m     65\u001b[0m \u001b[38;5;28;01mif\u001b[39;00m \u001b[38;5;129;01mnot\u001b[39;00m gpd:\n\u001b[1;32m     66\u001b[0m     \u001b[38;5;28;01mraise\u001b[39;00m \u001b[38;5;167;01mImportError\u001b[39;00m(\u001b[38;5;124m\"\u001b[39m\u001b[38;5;124mgeopandas is required to use this function\u001b[39m\u001b[38;5;124m\"\u001b[39m)\n\u001b[0;32m---> 68\u001b[0m \u001b[38;5;28;01mreturn\u001b[39;00m \u001b[43mgpd\u001b[49m\u001b[38;5;241;43m.\u001b[39;49m\u001b[43mread_parquet\u001b[49m\u001b[43m(\u001b[49m\u001b[38;5;124;43mf\u001b[39;49m\u001b[38;5;124;43m\"\u001b[39;49m\u001b[38;5;124;43ms3://\u001b[39;49m\u001b[38;5;132;43;01m{\u001b[39;49;00m\u001b[43m_dataset_path\u001b[49m\u001b[43m(\u001b[49m\u001b[43moverture_type\u001b[49m\u001b[43m)\u001b[49m\u001b[38;5;132;43;01m}\u001b[39;49;00m\u001b[38;5;124;43m\"\u001b[39;49m\u001b[43m,\u001b[49m\u001b[43m \u001b[49m\u001b[43mbbox\u001b[49m\u001b[38;5;241;43m=\u001b[39;49m\u001b[43mbbox\u001b[49m\u001b[43m)\u001b[49m\n",
      "File \u001b[0;32m~/dev/envs/transportation/lib/python3.12/site-packages/geopandas/io/arrow.py:756\u001b[0m, in \u001b[0;36m_read_parquet\u001b[0;34m(path, columns, storage_options, bbox, **kwargs)\u001b[0m\n\u001b[1;32m    751\u001b[0m schema, metadata \u001b[38;5;241m=\u001b[39m _read_parquet_schema_and_metadata(path, filesystem)\n\u001b[1;32m    753\u001b[0m geo_metadata \u001b[38;5;241m=\u001b[39m _validate_and_decode_metadata(metadata)\n\u001b[1;32m    755\u001b[0m bbox_filter \u001b[38;5;241m=\u001b[39m (\n\u001b[0;32m--> 756\u001b[0m     \u001b[43m_get_parquet_bbox_filter\u001b[49m\u001b[43m(\u001b[49m\u001b[43mgeo_metadata\u001b[49m\u001b[43m,\u001b[49m\u001b[43m \u001b[49m\u001b[43mbbox\u001b[49m\u001b[43m)\u001b[49m \u001b[38;5;28;01mif\u001b[39;00m bbox \u001b[38;5;129;01mis\u001b[39;00m \u001b[38;5;129;01mnot\u001b[39;00m \u001b[38;5;28;01mNone\u001b[39;00m \u001b[38;5;28;01melse\u001b[39;00m \u001b[38;5;28;01mNone\u001b[39;00m\n\u001b[1;32m    757\u001b[0m )\n\u001b[1;32m    759\u001b[0m if_bbox_column_exists \u001b[38;5;241m=\u001b[39m _check_if_covering_in_geo_metadata(geo_metadata)\n\u001b[1;32m    761\u001b[0m \u001b[38;5;66;03m# by default, bbox column is not read in, so must specify which\u001b[39;00m\n\u001b[1;32m    762\u001b[0m \u001b[38;5;66;03m# columns are read in if it exists.\u001b[39;00m\n",
      "File \u001b[0;32m~/dev/envs/transportation/lib/python3.12/site-packages/geopandas/io/arrow.py:869\u001b[0m, in \u001b[0;36m_get_parquet_bbox_filter\u001b[0;34m(geo_metadata, bbox)\u001b[0m\n\u001b[1;32m    861\u001b[0m     \u001b[38;5;28;01mreturn\u001b[39;00m (\n\u001b[1;32m    862\u001b[0m         (pc\u001b[38;5;241m.\u001b[39mfield((primary_column, \u001b[38;5;124m\"\u001b[39m\u001b[38;5;124mx\u001b[39m\u001b[38;5;124m\"\u001b[39m)) \u001b[38;5;241m>\u001b[39m\u001b[38;5;241m=\u001b[39m bbox[\u001b[38;5;241m0\u001b[39m])\n\u001b[1;32m    863\u001b[0m         \u001b[38;5;241m&\u001b[39m (pc\u001b[38;5;241m.\u001b[39mfield((primary_column, \u001b[38;5;124m\"\u001b[39m\u001b[38;5;124mx\u001b[39m\u001b[38;5;124m\"\u001b[39m)) \u001b[38;5;241m<\u001b[39m\u001b[38;5;241m=\u001b[39m bbox[\u001b[38;5;241m2\u001b[39m])\n\u001b[1;32m    864\u001b[0m         \u001b[38;5;241m&\u001b[39m (pc\u001b[38;5;241m.\u001b[39mfield((primary_column, \u001b[38;5;124m\"\u001b[39m\u001b[38;5;124my\u001b[39m\u001b[38;5;124m\"\u001b[39m)) \u001b[38;5;241m>\u001b[39m\u001b[38;5;241m=\u001b[39m bbox[\u001b[38;5;241m1\u001b[39m])\n\u001b[1;32m    865\u001b[0m         \u001b[38;5;241m&\u001b[39m (pc\u001b[38;5;241m.\u001b[39mfield((primary_column, \u001b[38;5;124m\"\u001b[39m\u001b[38;5;124my\u001b[39m\u001b[38;5;124m\"\u001b[39m)) \u001b[38;5;241m<\u001b[39m\u001b[38;5;241m=\u001b[39m bbox[\u001b[38;5;241m3\u001b[39m])\n\u001b[1;32m    866\u001b[0m     )\n\u001b[1;32m    868\u001b[0m \u001b[38;5;28;01melse\u001b[39;00m:\n\u001b[0;32m--> 869\u001b[0m     \u001b[38;5;28;01mraise\u001b[39;00m \u001b[38;5;167;01mValueError\u001b[39;00m(\n\u001b[1;32m    870\u001b[0m         \u001b[38;5;124m\"\u001b[39m\u001b[38;5;124mSpecifying \u001b[39m\u001b[38;5;124m'\u001b[39m\u001b[38;5;124mbbox\u001b[39m\u001b[38;5;124m'\u001b[39m\u001b[38;5;124m not supported for this Parquet file (it should either \u001b[39m\u001b[38;5;124m\"\u001b[39m\n\u001b[1;32m    871\u001b[0m         \u001b[38;5;124m\"\u001b[39m\u001b[38;5;124mhave a bbox covering column or use \u001b[39m\u001b[38;5;124m'\u001b[39m\u001b[38;5;124mpoint\u001b[39m\u001b[38;5;124m'\u001b[39m\u001b[38;5;124m encoding).\u001b[39m\u001b[38;5;124m\"\u001b[39m\n\u001b[1;32m    872\u001b[0m     )\n",
      "\u001b[0;31mValueError\u001b[0m: Specifying 'bbox' not supported for this Parquet file (it should either have a bbox covering column or use 'point' encoding)."
     ]
    }
   ],
   "source": [
    "gdf = core.geodataframe(\"segment\", bbox=bbox)"
   ]
  },
  {
   "cell_type": "code",
   "execution_count": 4,
   "metadata": {},
   "outputs": [],
   "source": [
    "gdf.head()"
   ]
  }
 ],
 "metadata": {
  "kernelspec": {
   "display_name": "Python 3 (ipykernel)",
   "language": "python",
   "name": "python3"
  },
  "language_info": {
   "codemirror_mode": {
    "name": "ipython",
    "version": 3
   },
   "file_extension": ".py",
   "mimetype": "text/x-python",
   "name": "python",
   "nbconvert_exporter": "python",
   "pygments_lexer": "ipython3",
   "version": "3.12.4"
  }
 },
 "nbformat": 4,
 "nbformat_minor": 4
}
